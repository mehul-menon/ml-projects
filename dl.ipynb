{
 "cells": [
  {
   "cell_type": "code",
   "execution_count": 1,
   "metadata": {},
   "outputs": [],
   "source": [
    "import matplotlib as plt\n",
    "import numpy as np\n",
    "import pandas as pd\n",
    "import tensorflow as tf\n",
    "from tensorflow import keras\n",
    "from tensorflow.keras import layers\n",
    "data = pd.read_csv('abalone.csv')"
   ]
  },
  {
   "cell_type": "code",
   "execution_count": 2,
   "metadata": {},
   "outputs": [],
   "source": [
    "from sklearn.model_selection import train_test_split\n",
    "X = data.drop(['Rings'],axis=1)\n",
    "y = data.Rings\n",
    "X_train, X_valid, y_train, y_valid = train_test_split(X,y,test_size=0.75,train_size=0.25,random_state=0)\n",
    "num_cols = [cols for cols in X_train.columns if X_train[cols].dtype in ('int64','float64')]\n",
    "cat_cols = [cols for cols in X_train.columns if X_train[cols].dtype=='object']"
   ]
  },
  {
   "cell_type": "code",
   "execution_count": 5,
   "metadata": {},
   "outputs": [
    {
     "data": {
      "text/html": [
       "<div>\n",
       "<style scoped>\n",
       "    .dataframe tbody tr th:only-of-type {\n",
       "        vertical-align: middle;\n",
       "    }\n",
       "\n",
       "    .dataframe tbody tr th {\n",
       "        vertical-align: top;\n",
       "    }\n",
       "\n",
       "    .dataframe thead th {\n",
       "        text-align: right;\n",
       "    }\n",
       "</style>\n",
       "<table border=\"1\" class=\"dataframe\">\n",
       "  <thead>\n",
       "    <tr style=\"text-align: right;\">\n",
       "      <th></th>\n",
       "      <th>LongestShell</th>\n",
       "      <th>Diameter</th>\n",
       "      <th>Height</th>\n",
       "      <th>WholeWeight</th>\n",
       "      <th>ShuckedWeight</th>\n",
       "      <th>VisceraWeight</th>\n",
       "      <th>ShellWeight</th>\n",
       "    </tr>\n",
       "  </thead>\n",
       "  <tbody>\n",
       "    <tr>\n",
       "      <th>4132</th>\n",
       "      <td>0.585</td>\n",
       "      <td>0.470</td>\n",
       "      <td>0.170</td>\n",
       "      <td>0.9850</td>\n",
       "      <td>0.3695</td>\n",
       "      <td>0.2395</td>\n",
       "      <td>0.3150</td>\n",
       "    </tr>\n",
       "    <tr>\n",
       "      <th>1937</th>\n",
       "      <td>0.625</td>\n",
       "      <td>0.515</td>\n",
       "      <td>0.170</td>\n",
       "      <td>1.3310</td>\n",
       "      <td>0.5725</td>\n",
       "      <td>0.3005</td>\n",
       "      <td>0.3610</td>\n",
       "    </tr>\n",
       "    <tr>\n",
       "      <th>1321</th>\n",
       "      <td>0.560</td>\n",
       "      <td>0.425</td>\n",
       "      <td>0.145</td>\n",
       "      <td>0.6880</td>\n",
       "      <td>0.3095</td>\n",
       "      <td>0.1305</td>\n",
       "      <td>0.2165</td>\n",
       "    </tr>\n",
       "    <tr>\n",
       "      <th>1125</th>\n",
       "      <td>0.550</td>\n",
       "      <td>0.425</td>\n",
       "      <td>0.150</td>\n",
       "      <td>0.8315</td>\n",
       "      <td>0.4110</td>\n",
       "      <td>0.1765</td>\n",
       "      <td>0.2165</td>\n",
       "    </tr>\n",
       "    <tr>\n",
       "      <th>3788</th>\n",
       "      <td>0.630</td>\n",
       "      <td>0.475</td>\n",
       "      <td>0.150</td>\n",
       "      <td>1.0720</td>\n",
       "      <td>0.4330</td>\n",
       "      <td>0.2975</td>\n",
       "      <td>0.3150</td>\n",
       "    </tr>\n",
       "    <tr>\n",
       "      <th>...</th>\n",
       "      <td>...</td>\n",
       "      <td>...</td>\n",
       "      <td>...</td>\n",
       "      <td>...</td>\n",
       "      <td>...</td>\n",
       "      <td>...</td>\n",
       "      <td>...</td>\n",
       "    </tr>\n",
       "    <tr>\n",
       "      <th>1033</th>\n",
       "      <td>0.650</td>\n",
       "      <td>0.525</td>\n",
       "      <td>0.185</td>\n",
       "      <td>1.6220</td>\n",
       "      <td>0.6645</td>\n",
       "      <td>0.3225</td>\n",
       "      <td>0.4770</td>\n",
       "    </tr>\n",
       "    <tr>\n",
       "      <th>3264</th>\n",
       "      <td>0.655</td>\n",
       "      <td>0.500</td>\n",
       "      <td>0.140</td>\n",
       "      <td>1.1705</td>\n",
       "      <td>0.5405</td>\n",
       "      <td>0.3175</td>\n",
       "      <td>0.2850</td>\n",
       "    </tr>\n",
       "    <tr>\n",
       "      <th>1653</th>\n",
       "      <td>0.595</td>\n",
       "      <td>0.450</td>\n",
       "      <td>0.145</td>\n",
       "      <td>0.9590</td>\n",
       "      <td>0.4630</td>\n",
       "      <td>0.2065</td>\n",
       "      <td>0.2535</td>\n",
       "    </tr>\n",
       "    <tr>\n",
       "      <th>2607</th>\n",
       "      <td>0.625</td>\n",
       "      <td>0.490</td>\n",
       "      <td>0.165</td>\n",
       "      <td>1.1270</td>\n",
       "      <td>0.4770</td>\n",
       "      <td>0.2365</td>\n",
       "      <td>0.3185</td>\n",
       "    </tr>\n",
       "    <tr>\n",
       "      <th>2732</th>\n",
       "      <td>0.410</td>\n",
       "      <td>0.325</td>\n",
       "      <td>0.110</td>\n",
       "      <td>0.3260</td>\n",
       "      <td>0.1325</td>\n",
       "      <td>0.0750</td>\n",
       "      <td>0.1010</td>\n",
       "    </tr>\n",
       "  </tbody>\n",
       "</table>\n",
       "<p>1044 rows × 7 columns</p>\n",
       "</div>"
      ],
      "text/plain": [
       "      LongestShell  Diameter  Height  WholeWeight  ShuckedWeight  \\\n",
       "4132         0.585     0.470   0.170       0.9850         0.3695   \n",
       "1937         0.625     0.515   0.170       1.3310         0.5725   \n",
       "1321         0.560     0.425   0.145       0.6880         0.3095   \n",
       "1125         0.550     0.425   0.150       0.8315         0.4110   \n",
       "3788         0.630     0.475   0.150       1.0720         0.4330   \n",
       "...            ...       ...     ...          ...            ...   \n",
       "1033         0.650     0.525   0.185       1.6220         0.6645   \n",
       "3264         0.655     0.500   0.140       1.1705         0.5405   \n",
       "1653         0.595     0.450   0.145       0.9590         0.4630   \n",
       "2607         0.625     0.490   0.165       1.1270         0.4770   \n",
       "2732         0.410     0.325   0.110       0.3260         0.1325   \n",
       "\n",
       "      VisceraWeight  ShellWeight  \n",
       "4132         0.2395       0.3150  \n",
       "1937         0.3005       0.3610  \n",
       "1321         0.1305       0.2165  \n",
       "1125         0.1765       0.2165  \n",
       "3788         0.2975       0.3150  \n",
       "...             ...          ...  \n",
       "1033         0.3225       0.4770  \n",
       "3264         0.3175       0.2850  \n",
       "1653         0.2065       0.2535  \n",
       "2607         0.2365       0.3185  \n",
       "2732         0.0750       0.1010  \n",
       "\n",
       "[1044 rows x 7 columns]"
      ]
     },
     "execution_count": 5,
     "metadata": {},
     "output_type": "execute_result"
    }
   ],
   "source": [
    "from sklearn.preprocessing import OneHotEncoder\n",
    "OHE = OneHotEncoder(handle_unknown='ignore')\n",
    "num_X_train = X_train.drop(cat_cols,axis=1)\n",
    "num_X_valid = X_valid.drop(cat_cols,axis=1)\n",
    "num_X_train"
   ]
  },
  {
   "cell_type": "code",
   "execution_count": 11,
   "metadata": {},
   "outputs": [],
   "source": [
    "model = keras.Sequential([\n",
    "    layers.Dense(1024,activation='relu',input_shape=[7]),\n",
    "    layers.Dense(1024,activation='relu'),\n",
    "    layers.Dense(1024,activation='relu'),\n",
    "    layers.Dense(1)\n",
    "])"
   ]
  },
  {
   "cell_type": "code",
   "execution_count": 14,
   "metadata": {},
   "outputs": [
    {
     "data": {
      "text/plain": [
       "<AxesSubplot:>"
      ]
     },
     "execution_count": 14,
     "metadata": {},
     "output_type": "execute_result"
    },
    {
     "data": {
      "image/png": "[encoded data removed]",
      "text/plain": [
       "<Figure size 432x288 with 1 Axes>"
      ]
     },
     "metadata": {
      "needs_background": "light"
     },
     "output_type": "display_data"
    }
   ],
   "source": [
    "model.compile(\n",
    "    optimizer = 'adam',\n",
    "    loss = 'mae',\n",
    ")\n",
    "final_model = model.fit(\n",
    "    num_X_train,y_train,\n",
    "    epochs=10,\n",
    "    validation_data=(num_X_valid,y_valid),\n",
    "    verbose=0,\n",
    ")\n",
    "history = pd.DataFrame(final_model.history)\n",
    "history.loc[:,['loss','val_loss']].plot()"
   ]
  }
 ],
 "metadata": {
  "interpreter": {
   "hash": "05879a1726ee47d7310df064b984640b2c9c9e8e9b3faba699e60e8aabd959d7"
  },
  "kernelspec": {
   "display_name": "Python 3.9.6 64-bit",
   "language": "python",
   "name": "python3"
  },
  "language_info": {
   "codemirror_mode": {
    "name": "ipython",
    "version": 3
   },
   "file_extension": ".py",
   "mimetype": "text/x-python",
   "name": "python",
   "nbconvert_exporter": "python",
   "pygments_lexer": "ipython3",
   "version": "3.9.6"
  },
  "orig_nbformat": 4
 },
 "nbformat": 4,
 "nbformat_minor": 2
}
