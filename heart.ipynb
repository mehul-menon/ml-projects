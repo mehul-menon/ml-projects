{
 "cells": [
  {
   "cell_type": "code",
   "execution_count": 4,
   "metadata": {},
   "outputs": [],
   "source": [
    "import numpy as np\n",
    "import pandas as pd\n",
    "from sklearn.metrics import mean_absolute_error\n",
    "\n",
    "data = pd.read_csv('heart.csv')"
   ]
  },
  {
   "cell_type": "code",
   "execution_count": 6,
   "metadata": {},
   "outputs": [],
   "source": [
    "from sklearn.model_selection import train_test_split\n",
    "\n",
    "X = data.drop(['HeartDisease'], axis=1)\n",
    "y = data.HeartDisease\n",
    "X_train, X_valid, y_train, y_valid = train_test_split(X,y,train_size=0.75,test_size=0.25)"
   ]
  },
  {
   "cell_type": "code",
   "execution_count": 16,
   "metadata": {},
   "outputs": [],
   "source": [
    "from sklearn.preprocessing import OneHotEncoder\n",
    "OHE = OneHotEncoder(handle_unknown='ignore',sparse=False)\n",
    "categorical_cols = [cols for cols in X.columns if X_train[cols].dtype=='object']\n",
    "num_cols = [cols for cols in X.columns if X_train[cols].dtype in ['int64','float64']]\n",
    "#print(categorical_col)\n",
    "#print(num_cols)\n",
    "cat_X_train = X_train.drop(num_cols, axis=1)\n",
    "cat_X_valid = X_valid.drop(num_cols, axis=1)\n",
    "num_X_train = X_train.drop(categorical_cols, axis=1)\n",
    "num_X_valid = X_valid.drop(categorical_cols, axis=1)\n",
    "OH_cols_train = pd.DataFrame(OHE.fit_transform(cat_X_train) )\n",
    "OH_cols_valid = pd.DataFrame(OHE.fit_transform(cat_X_valid))\n",
    "OH_cols_train.index = X_train.index\n",
    "OH_cols_valid.index = X_valid.index\n",
    "OH_X_train = pd.concat([num_X_train,OH_cols_train],axis=1)\n",
    "OH_X_valid = pd.concat([num_X_valid,OH_cols_valid],axis=1)"
   ]
  },
  {
   "cell_type": "code",
   "execution_count": 19,
   "metadata": {},
   "outputs": [
    {
     "name": "stdout",
     "output_type": "stream",
     "text": [
      "0.22192783318459988\n"
     ]
    }
   ],
   "source": [
    "from xgboost import XGBRegressor\n",
    "\n",
    "model = XGBRegressor(n_estimators=5000, learning_rate=0.02, n_jobs=4)\n",
    "model.fit(OH_X_train,y_train,early_stopping_rounds=5,verbose=False, eval_set=[(OH_X_valid,y_valid)])\n",
    "preds = model.predict(OH_X_valid)\n",
    "mae = mean_absolute_error(preds, y_valid)\n",
    "print(mae)"
   ]
  }
 ],
 "metadata": {
  "interpreter": {
   "hash": "05879a1726ee47d7310df064b984640b2c9c9e8e9b3faba699e60e8aabd959d7"
  },
  "kernelspec": {
   "display_name": "Python 3.9.6 64-bit",
   "language": "python",
   "name": "python3"
  },
  "language_info": {
   "codemirror_mode": {
    "name": "ipython",
    "version": 3
   },
   "file_extension": ".py",
   "mimetype": "text/x-python",
   "name": "python",
   "nbconvert_exporter": "python",
   "pygments_lexer": "ipython3",
   "version": "3.9.6"
  },
  "orig_nbformat": 4
 },
 "nbformat": 4,
 "nbformat_minor": 2
}
